{
 "cells": [
  {
   "cell_type": "code",
   "execution_count": 2,
   "id": "58a16be6",
   "metadata": {},
   "outputs": [],
   "source": [
    "import random"
   ]
  },
  {
   "cell_type": "code",
   "execution_count": 3,
   "id": "3c6a517f",
   "metadata": {},
   "outputs": [],
   "source": [
    "data = {\"northern_africa\":[\"Tunisia\", \"Libya\", \"Morocco\", \"Egypt\", \"Algeria\"], \"south africa\":[\n",
    "    \"Angola\", \"Botswana\",\"Lesotho\",\"Mozambique\", \"Namibia\", \"South Africa\", \"Swaziland\", \"Zambia\", \"Zimbabwe\"],\n",
    "     \"east_african\":[\n",
    "         \"Burundi\", \"Comoros\", \"Djibouti\", \"Ethiopia\", \"Eritre a\", \"Kenya\",\n",
    "                \"Madagascar\", \"Malawi\", \"Mauritius\", \"Mozambique\", \"Réunion\",\n",
    "                 \"Rwanda\", \"Seychelles\", \"Somalia\", \"Somaliland\",\n",
    "                \"Tanzania\", \"Uganda\", \"Zambia\", \"Zimbabwe\"\n",
    "     ], \"central_or_middle_african_countries\":[\n",
    "            \"Angola\", \"Cameroon\", \"Central African Republic\", \"Chad\",\n",
    "            \"Congo Republic Brazzaville\",\"Democratic Republic of Congo\", \"Equatorial Guinea\",\n",
    "            \"Gabon\", \"São Tomé & Principe\"\n",
    "    ], \"western_africa\":[\n",
    "            \"Benin\", \"Burkina Faso\", \"Cabo Verde\", \"Cote d Ivoire\", \"The Gambia\", \"Ghana\",\n",
    "                \"Guinea\", \"Guinea-Bissau\", \"Liberia\", \"Mali\", \"Niger\",\n",
    "                \"Nigeria\", \"Senegal\", \"Sierra Leone\", \"Togo\"\n",
    "    ] }\n"
   ]
  },
  {
   "cell_type": "code",
   "execution_count": 4,
   "id": "18eb5a72",
   "metadata": {},
   "outputs": [
    {
     "name": "stdout",
     "output_type": "stream",
     "text": [
      "western_africa Burkina Faso\n"
     ]
    }
   ],
   "source": [
    "def vacation():\n",
    "    number_of_region = len(data)\n",
    "    out = random.randint(1, number_of_region)\n",
    "    region_choice = out - 1\n",
    "    region = list(data)[region_choice]\n",
    "    number_of_countries = len(data[region])\n",
    "    country_choice = random.randint(1, number_of_countries)\n",
    "    country_choice = country_choice -1\n",
    "    country = data[region][country_choice]\n",
    "    print(region, country)\n",
    "vacation()"
   ]
  },
  {
   "cell_type": "code",
   "execution_count": null,
   "id": "329d937b",
   "metadata": {},
   "outputs": [],
   "source": []
  }
 ],
 "metadata": {
  "kernelspec": {
   "display_name": "Python 3 (ipykernel)",
   "language": "python",
   "name": "python3"
  },
  "language_info": {
   "codemirror_mode": {
    "name": "ipython",
    "version": 3
   },
   "file_extension": ".py",
   "mimetype": "text/x-python",
   "name": "python",
   "nbconvert_exporter": "python",
   "pygments_lexer": "ipython3",
   "version": "3.9.13"
  }
 },
 "nbformat": 4,
 "nbformat_minor": 5
}
